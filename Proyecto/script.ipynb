{
 "cells": [
  {
   "cell_type": "code",
   "execution_count": 22,
   "metadata": {},
   "outputs": [],
   "source": [
    "import requests\n",
    "import pandas as pd\n",
    "import matplotlib.pyplot as plt\n",
    "import sqlite3"
   ]
  },
  {
   "cell_type": "markdown",
   "metadata": {},
   "source": [
    "## 1. Lectura de datos"
   ]
  },
  {
   "cell_type": "code",
   "execution_count": 23,
   "metadata": {},
   "outputs": [],
   "source": [
    "url = 'https://l2h237eh53.execute-api.us-east-1.amazonaws.com/dev/precios'\n",
    "\n",
    "def obtener_datos_api():\n",
    "    try:\n",
    "        respuesta = requests.get(url+'?start_date=2024-03-15&end_date=2024-04-14')\n",
    "        return respuesta.json()\n",
    "    except requests.exceptions.HTTPError as e:\n",
    "        print(e)\n",
    "        return None\n",
    "    \n",
    "datos = obtener_datos_api()"
   ]
  },
  {
   "cell_type": "markdown",
   "metadata": {},
   "source": [
    "#### ¿Cuántos días de datos se obtienen?"
   ]
  },
  {
   "cell_type": "code",
   "execution_count": 6,
   "metadata": {},
   "outputs": [
    {
     "name": "stdout",
     "output_type": "stream",
     "text": [
      "Se obtienen 30 días\n"
     ]
    }
   ],
   "source": [
    "print('Se obtienen',len(datos[\"data\"]), 'días')"
   ]
  },
  {
   "cell_type": "markdown",
   "metadata": {},
   "source": [
    "## 2. Procesamiento de los datos"
   ]
  },
  {
   "cell_type": "code",
   "execution_count": 6,
   "metadata": {},
   "outputs": [],
   "source": [
    "df = pd.json_normalize(datos['data'])\n",
    "df = df.transpose()\n",
    "df = df.reset_index()\n",
    "df = df.rename(columns={'index': 'fecha_aux'})"
   ]
  },
  {
   "cell_type": "code",
   "execution_count": null,
   "metadata": {},
   "outputs": [],
   "source": [
    "df['fecha_aux'] = df['fecha_aux'].str.replace(\".\", \" \")\n",
    "df['fecha_aux'] = df['fecha_aux'].str.replace(\"24:00\", \"00:00\")\n",
    "\n",
    "df['fecha_aux'] = pd.to_datetime(df['fecha_aux'])\n",
    "df.columns = ['Fecha','Precio']"
   ]
  },
  {
   "cell_type": "markdown",
   "metadata": {},
   "source": [
    "## 3. Tratamiento de datos faltantes"
   ]
  },
  {
   "cell_type": "markdown",
   "metadata": {},
   "source": [
    "#### Para rellenar horas faltantes"
   ]
  },
  {
   "cell_type": "code",
   "execution_count": 8,
   "metadata": {},
   "outputs": [
    {
     "data": {
      "text/html": [
       "<div>\n",
       "<style scoped>\n",
       "    .dataframe tbody tr th:only-of-type {\n",
       "        vertical-align: middle;\n",
       "    }\n",
       "\n",
       "    .dataframe tbody tr th {\n",
       "        vertical-align: top;\n",
       "    }\n",
       "\n",
       "    .dataframe thead th {\n",
       "        text-align: right;\n",
       "    }\n",
       "</style>\n",
       "<table border=\"1\" class=\"dataframe\">\n",
       "  <thead>\n",
       "    <tr style=\"text-align: right;\">\n",
       "      <th></th>\n",
       "      <th>Fecha</th>\n",
       "      <th>Precio</th>\n",
       "    </tr>\n",
       "  </thead>\n",
       "  <tbody>\n",
       "    <tr>\n",
       "      <th>566</th>\n",
       "      <td>2024-04-08 15:00:00</td>\n",
       "      <td>None</td>\n",
       "    </tr>\n",
       "    <tr>\n",
       "      <th>590</th>\n",
       "      <td>2024-04-09 15:00:00</td>\n",
       "      <td>None</td>\n",
       "    </tr>\n",
       "    <tr>\n",
       "      <th>591</th>\n",
       "      <td>2024-04-09 16:00:00</td>\n",
       "      <td>None</td>\n",
       "    </tr>\n",
       "    <tr>\n",
       "      <th>592</th>\n",
       "      <td>2024-04-09 17:00:00</td>\n",
       "      <td>None</td>\n",
       "    </tr>\n",
       "  </tbody>\n",
       "</table>\n",
       "</div>"
      ],
      "text/plain": [
       "                  Fecha Precio\n",
       "566 2024-04-08 15:00:00   None\n",
       "590 2024-04-09 15:00:00   None\n",
       "591 2024-04-09 16:00:00   None\n",
       "592 2024-04-09 17:00:00   None"
      ]
     },
     "execution_count": 8,
     "metadata": {},
     "output_type": "execute_result"
    }
   ],
   "source": [
    "#Horas sin Precio\n",
    "horas_faltantes = df[df['Precio'].isna()]\n",
    "horas_faltantes"
   ]
  },
  {
   "cell_type": "code",
   "execution_count": 9,
   "metadata": {},
   "outputs": [],
   "source": [
    "# Se llenan las horas faltantes con el valor anterior más cercano\n",
    "df['Precio'] = df['Precio'].ffill()"
   ]
  },
  {
   "cell_type": "markdown",
   "metadata": {},
   "source": [
    "#### Para rellenar los días faltantes"
   ]
  },
  {
   "cell_type": "code",
   "execution_count": 10,
   "metadata": {},
   "outputs": [
    {
     "data": {
      "text/plain": [
       "DatetimeIndex(['2024-03-18 00:00:00', '2024-03-18 01:00:00',\n",
       "               '2024-03-18 02:00:00', '2024-03-18 03:00:00',\n",
       "               '2024-03-18 04:00:00', '2024-03-18 05:00:00',\n",
       "               '2024-03-18 06:00:00', '2024-03-18 07:00:00',\n",
       "               '2024-03-18 08:00:00', '2024-03-18 09:00:00',\n",
       "               '2024-03-18 10:00:00', '2024-03-18 11:00:00',\n",
       "               '2024-03-18 12:00:00', '2024-03-18 13:00:00',\n",
       "               '2024-03-18 14:00:00', '2024-03-18 15:00:00',\n",
       "               '2024-03-18 16:00:00', '2024-03-18 17:00:00',\n",
       "               '2024-03-18 18:00:00', '2024-03-18 19:00:00',\n",
       "               '2024-03-18 20:00:00', '2024-03-18 21:00:00',\n",
       "               '2024-03-18 22:00:00', '2024-03-18 23:00:00'],\n",
       "              dtype='datetime64[ns]', freq=None)"
      ]
     },
     "execution_count": 10,
     "metadata": {},
     "output_type": "execute_result"
    }
   ],
   "source": [
    "# Se identifican las fechas faltantes\n",
    "fechas = pd.date_range(start='2024-03-15', end='2024-04-14', freq='H')\n",
    "fechas_faltantes = fechas.difference(df['Fecha'])\n",
    "fechas_faltantes"
   ]
  },
  {
   "cell_type": "code",
   "execution_count": 11,
   "metadata": {},
   "outputs": [
    {
     "name": "stderr",
     "output_type": "stream",
     "text": [
      "C:\\Users\\Erika\\AppData\\Local\\Temp\\ipykernel_21472\\1864773236.py:4: FutureWarning: The behavior of DataFrame concatenation with empty or all-NA entries is deprecated. In a future version, this will no longer exclude empty or all-NA columns when determining the result dtypes. To retain the old behavior, exclude the relevant entries before the concat operation.\n",
      "  df_completo = pd.concat([df, df_faltantes], ignore_index=True)\n"
     ]
    }
   ],
   "source": [
    "# Con las fechas faltantes creo un DF y lo concateno con el original\n",
    "df_faltantes = pd.DataFrame({'Fecha': fechas_faltantes, 'Precio' : None})\n",
    "\n",
    "df_completo = pd.concat([df, df_faltantes], ignore_index=True)\n",
    "df_completo = df_completo.sort_values(by='Fecha').reset_index(drop=True)"
   ]
  },
  {
   "cell_type": "code",
   "execution_count": 12,
   "metadata": {},
   "outputs": [],
   "source": [
    "#Se agrupa por día y se calcula el promedio diario\n",
    "df_promedio_diario = df_completo.groupby(df_completo['Fecha'].dt.date)['Precio'].mean().reset_index()\n",
    "df_promedio_diario.columns = ['fecha_aux', 'promedio_diario']"
   ]
  },
  {
   "cell_type": "code",
   "execution_count": 13,
   "metadata": {},
   "outputs": [],
   "source": [
    "#Con el promedio diario, se calculan los promedios teniendo en cuenta los días anteriores y posteriores.\n",
    "df_promedio_copy = df_promedio_diario\n",
    "df_promedio_copy['promedio_diario'] = df_promedio_copy['promedio_diario'].rolling(window=6, min_periods=1, center=True).mean()"
   ]
  },
  {
   "cell_type": "code",
   "execution_count": null,
   "metadata": {},
   "outputs": [
    {
     "data": {
      "text/html": [
       "<div>\n",
       "<style scoped>\n",
       "    .dataframe tbody tr th:only-of-type {\n",
       "        vertical-align: middle;\n",
       "    }\n",
       "\n",
       "    .dataframe tbody tr th {\n",
       "        vertical-align: top;\n",
       "    }\n",
       "\n",
       "    .dataframe thead th {\n",
       "        text-align: right;\n",
       "    }\n",
       "</style>\n",
       "<table border=\"1\" class=\"dataframe\">\n",
       "  <thead>\n",
       "    <tr style=\"text-align: right;\">\n",
       "      <th></th>\n",
       "      <th>Fecha</th>\n",
       "      <th>Precio</th>\n",
       "    </tr>\n",
       "  </thead>\n",
       "  <tbody>\n",
       "    <tr>\n",
       "      <th>0</th>\n",
       "      <td>2024-03-15 00:00:00</td>\n",
       "      <td>551.70</td>\n",
       "    </tr>\n",
       "    <tr>\n",
       "      <th>1</th>\n",
       "      <td>2024-03-15 01:00:00</td>\n",
       "      <td>551.70</td>\n",
       "    </tr>\n",
       "    <tr>\n",
       "      <th>2</th>\n",
       "      <td>2024-03-15 02:00:00</td>\n",
       "      <td>551.70</td>\n",
       "    </tr>\n",
       "    <tr>\n",
       "      <th>3</th>\n",
       "      <td>2024-03-15 03:00:00</td>\n",
       "      <td>551.70</td>\n",
       "    </tr>\n",
       "    <tr>\n",
       "      <th>4</th>\n",
       "      <td>2024-03-15 04:00:00</td>\n",
       "      <td>497.36</td>\n",
       "    </tr>\n",
       "    <tr>\n",
       "      <th>...</th>\n",
       "      <td>...</td>\n",
       "      <td>...</td>\n",
       "    </tr>\n",
       "    <tr>\n",
       "      <th>739</th>\n",
       "      <td>2024-04-14 19:00:00</td>\n",
       "      <td>1056.17</td>\n",
       "    </tr>\n",
       "    <tr>\n",
       "      <th>740</th>\n",
       "      <td>2024-04-14 20:00:00</td>\n",
       "      <td>1056.17</td>\n",
       "    </tr>\n",
       "    <tr>\n",
       "      <th>741</th>\n",
       "      <td>2024-04-14 21:00:00</td>\n",
       "      <td>1056.17</td>\n",
       "    </tr>\n",
       "    <tr>\n",
       "      <th>742</th>\n",
       "      <td>2024-04-14 22:00:00</td>\n",
       "      <td>1056.17</td>\n",
       "    </tr>\n",
       "    <tr>\n",
       "      <th>743</th>\n",
       "      <td>2024-04-14 23:00:00</td>\n",
       "      <td>1056.17</td>\n",
       "    </tr>\n",
       "  </tbody>\n",
       "</table>\n",
       "<p>744 rows × 2 columns</p>\n",
       "</div>"
      ],
      "text/plain": [
       "                  Fecha   Precio\n",
       "0   2024-03-15 00:00:00   551.70\n",
       "1   2024-03-15 01:00:00   551.70\n",
       "2   2024-03-15 02:00:00   551.70\n",
       "3   2024-03-15 03:00:00   551.70\n",
       "4   2024-03-15 04:00:00   497.36\n",
       "..                  ...      ...\n",
       "739 2024-04-14 19:00:00  1056.17\n",
       "740 2024-04-14 20:00:00  1056.17\n",
       "741 2024-04-14 21:00:00  1056.17\n",
       "742 2024-04-14 22:00:00  1056.17\n",
       "743 2024-04-14 23:00:00  1056.17\n",
       "\n",
       "[744 rows x 2 columns]"
      ]
     },
     "execution_count": 14,
     "metadata": {},
     "output_type": "execute_result"
    }
   ],
   "source": [
    "df_completo['fecha_aux'] = df_completo['Fecha'].dt.date\n",
    "\n",
    "# Teniendo la columna fecha_aux (día) en el df_completo se hace un merge con el promedio diario para luego rellenar los NaN con la columna promedio_diario (promedio móvil de 7 días)\n",
    "df_completo = df_completo.merge(df_promedio_copy, on='fecha_aux', how='left')\n",
    "\n",
    "# Rellenar los valores faltantes en df_completo con el promedio diario\n",
    "df_completo['Precio'] = df_completo['Precio'].fillna(df_completo['promedio_diario'])\n",
    "df_completo.drop(columns=['fecha_aux', 'promedio_diario'], inplace=True)\n",
    "df_completo"
   ]
  },
  {
   "cell_type": "markdown",
   "metadata": {},
   "source": [
    "## 4. Cálculo de promedios"
   ]
  },
  {
   "cell_type": "code",
   "execution_count": 15,
   "metadata": {},
   "outputs": [
    {
     "data": {
      "text/html": [
       "<div>\n",
       "<style scoped>\n",
       "    .dataframe tbody tr th:only-of-type {\n",
       "        vertical-align: middle;\n",
       "    }\n",
       "\n",
       "    .dataframe tbody tr th {\n",
       "        vertical-align: top;\n",
       "    }\n",
       "\n",
       "    .dataframe thead th {\n",
       "        text-align: right;\n",
       "    }\n",
       "</style>\n",
       "<table border=\"1\" class=\"dataframe\">\n",
       "  <thead>\n",
       "    <tr style=\"text-align: right;\">\n",
       "      <th></th>\n",
       "      <th>fecha_aux</th>\n",
       "      <th>promedio_diario</th>\n",
       "      <th>promedio_movil_7d</th>\n",
       "    </tr>\n",
       "  </thead>\n",
       "  <tbody>\n",
       "    <tr>\n",
       "      <th>0</th>\n",
       "      <td>2024-03-15</td>\n",
       "      <td>571.161111</td>\n",
       "      <td>571.161111</td>\n",
       "    </tr>\n",
       "    <tr>\n",
       "      <th>1</th>\n",
       "      <td>2024-03-16</td>\n",
       "      <td>571.161111</td>\n",
       "      <td>571.161111</td>\n",
       "    </tr>\n",
       "    <tr>\n",
       "      <th>2</th>\n",
       "      <td>2024-03-17</td>\n",
       "      <td>582.721250</td>\n",
       "      <td>575.014491</td>\n",
       "    </tr>\n",
       "    <tr>\n",
       "      <th>3</th>\n",
       "      <td>2024-03-18</td>\n",
       "      <td>591.309333</td>\n",
       "      <td>579.088201</td>\n",
       "    </tr>\n",
       "    <tr>\n",
       "      <th>4</th>\n",
       "      <td>2024-03-19</td>\n",
       "      <td>610.609167</td>\n",
       "      <td>585.392394</td>\n",
       "    </tr>\n",
       "    <tr>\n",
       "      <th>5</th>\n",
       "      <td>2024-03-20</td>\n",
       "      <td>637.143417</td>\n",
       "      <td>594.017565</td>\n",
       "    </tr>\n",
       "    <tr>\n",
       "      <th>6</th>\n",
       "      <td>2024-03-21</td>\n",
       "      <td>663.900667</td>\n",
       "      <td>604.000865</td>\n",
       "    </tr>\n",
       "    <tr>\n",
       "      <th>7</th>\n",
       "      <td>2024-03-22</td>\n",
       "      <td>661.878472</td>\n",
       "      <td>616.960488</td>\n",
       "    </tr>\n",
       "    <tr>\n",
       "      <th>8</th>\n",
       "      <td>2024-03-23</td>\n",
       "      <td>681.582083</td>\n",
       "      <td>632.734913</td>\n",
       "    </tr>\n",
       "    <tr>\n",
       "      <th>9</th>\n",
       "      <td>2024-03-24</td>\n",
       "      <td>716.694931</td>\n",
       "      <td>651.874010</td>\n",
       "    </tr>\n",
       "    <tr>\n",
       "      <th>10</th>\n",
       "      <td>2024-03-25</td>\n",
       "      <td>762.302708</td>\n",
       "      <td>676.301635</td>\n",
       "    </tr>\n",
       "    <tr>\n",
       "      <th>11</th>\n",
       "      <td>2024-03-26</td>\n",
       "      <td>786.326319</td>\n",
       "      <td>701.404085</td>\n",
       "    </tr>\n",
       "    <tr>\n",
       "      <th>12</th>\n",
       "      <td>2024-03-27</td>\n",
       "      <td>802.579583</td>\n",
       "      <td>725.037823</td>\n",
       "    </tr>\n",
       "    <tr>\n",
       "      <th>13</th>\n",
       "      <td>2024-03-28</td>\n",
       "      <td>819.748681</td>\n",
       "      <td>747.301825</td>\n",
       "    </tr>\n",
       "    <tr>\n",
       "      <th>14</th>\n",
       "      <td>2024-03-29</td>\n",
       "      <td>815.730069</td>\n",
       "      <td>769.280625</td>\n",
       "    </tr>\n",
       "    <tr>\n",
       "      <th>15</th>\n",
       "      <td>2024-03-30</td>\n",
       "      <td>817.907500</td>\n",
       "      <td>788.755685</td>\n",
       "    </tr>\n",
       "    <tr>\n",
       "      <th>16</th>\n",
       "      <td>2024-03-31</td>\n",
       "      <td>834.801875</td>\n",
       "      <td>805.628105</td>\n",
       "    </tr>\n",
       "    <tr>\n",
       "      <th>17</th>\n",
       "      <td>2024-04-01</td>\n",
       "      <td>898.283333</td>\n",
       "      <td>825.053909</td>\n",
       "    </tr>\n",
       "    <tr>\n",
       "      <th>18</th>\n",
       "      <td>2024-04-02</td>\n",
       "      <td>942.809375</td>\n",
       "      <td>847.408631</td>\n",
       "    </tr>\n",
       "    <tr>\n",
       "      <th>19</th>\n",
       "      <td>2024-04-03</td>\n",
       "      <td>979.096875</td>\n",
       "      <td>872.625387</td>\n",
       "    </tr>\n",
       "    <tr>\n",
       "      <th>20</th>\n",
       "      <td>2024-04-04</td>\n",
       "      <td>969.423611</td>\n",
       "      <td>894.007520</td>\n",
       "    </tr>\n",
       "    <tr>\n",
       "      <th>21</th>\n",
       "      <td>2024-04-05</td>\n",
       "      <td>932.936736</td>\n",
       "      <td>910.751329</td>\n",
       "    </tr>\n",
       "    <tr>\n",
       "      <th>22</th>\n",
       "      <td>2024-04-06</td>\n",
       "      <td>914.080417</td>\n",
       "      <td>924.490317</td>\n",
       "    </tr>\n",
       "    <tr>\n",
       "      <th>23</th>\n",
       "      <td>2024-04-07</td>\n",
       "      <td>873.412222</td>\n",
       "      <td>930.006081</td>\n",
       "    </tr>\n",
       "    <tr>\n",
       "      <th>24</th>\n",
       "      <td>2024-04-08</td>\n",
       "      <td>853.068333</td>\n",
       "      <td>923.546796</td>\n",
       "    </tr>\n",
       "    <tr>\n",
       "      <th>25</th>\n",
       "      <td>2024-04-09</td>\n",
       "      <td>862.407153</td>\n",
       "      <td>912.060764</td>\n",
       "    </tr>\n",
       "    <tr>\n",
       "      <th>26</th>\n",
       "      <td>2024-04-10</td>\n",
       "      <td>925.817917</td>\n",
       "      <td>904.449484</td>\n",
       "    </tr>\n",
       "    <tr>\n",
       "      <th>27</th>\n",
       "      <td>2024-04-11</td>\n",
       "      <td>990.274167</td>\n",
       "      <td>907.428135</td>\n",
       "    </tr>\n",
       "    <tr>\n",
       "      <th>28</th>\n",
       "      <td>2024-04-12</td>\n",
       "      <td>1010.013958</td>\n",
       "      <td>918.439167</td>\n",
       "    </tr>\n",
       "    <tr>\n",
       "      <th>29</th>\n",
       "      <td>2024-04-13</td>\n",
       "      <td>1014.388417</td>\n",
       "      <td>932.768881</td>\n",
       "    </tr>\n",
       "    <tr>\n",
       "      <th>30</th>\n",
       "      <td>2024-04-14</td>\n",
       "      <td>1028.544583</td>\n",
       "      <td>954.930647</td>\n",
       "    </tr>\n",
       "  </tbody>\n",
       "</table>\n",
       "</div>"
      ],
      "text/plain": [
       "     fecha_aux  promedio_diario  promedio_movil_7d\n",
       "0   2024-03-15       571.161111         571.161111\n",
       "1   2024-03-16       571.161111         571.161111\n",
       "2   2024-03-17       582.721250         575.014491\n",
       "3   2024-03-18       591.309333         579.088201\n",
       "4   2024-03-19       610.609167         585.392394\n",
       "5   2024-03-20       637.143417         594.017565\n",
       "6   2024-03-21       663.900667         604.000865\n",
       "7   2024-03-22       661.878472         616.960488\n",
       "8   2024-03-23       681.582083         632.734913\n",
       "9   2024-03-24       716.694931         651.874010\n",
       "10  2024-03-25       762.302708         676.301635\n",
       "11  2024-03-26       786.326319         701.404085\n",
       "12  2024-03-27       802.579583         725.037823\n",
       "13  2024-03-28       819.748681         747.301825\n",
       "14  2024-03-29       815.730069         769.280625\n",
       "15  2024-03-30       817.907500         788.755685\n",
       "16  2024-03-31       834.801875         805.628105\n",
       "17  2024-04-01       898.283333         825.053909\n",
       "18  2024-04-02       942.809375         847.408631\n",
       "19  2024-04-03       979.096875         872.625387\n",
       "20  2024-04-04       969.423611         894.007520\n",
       "21  2024-04-05       932.936736         910.751329\n",
       "22  2024-04-06       914.080417         924.490317\n",
       "23  2024-04-07       873.412222         930.006081\n",
       "24  2024-04-08       853.068333         923.546796\n",
       "25  2024-04-09       862.407153         912.060764\n",
       "26  2024-04-10       925.817917         904.449484\n",
       "27  2024-04-11       990.274167         907.428135\n",
       "28  2024-04-12      1010.013958         918.439167\n",
       "29  2024-04-13      1014.388417         932.768881\n",
       "30  2024-04-14      1028.544583         954.930647"
      ]
     },
     "execution_count": 15,
     "metadata": {},
     "output_type": "execute_result"
    }
   ],
   "source": [
    "#Se agrupa por día y se calcula el promedio diario\n",
    "df_promedio_diario['promedio_movil_7d'] = df_promedio_diario['promedio_diario'].rolling(window=7, min_periods=1).mean()\n",
    "df_promedio_diario"
   ]
  },
  {
   "cell_type": "markdown",
   "metadata": {},
   "source": [
    "## 5. Visualización de resultados"
   ]
  },
  {
   "cell_type": "code",
   "execution_count": 16,
   "metadata": {},
   "outputs": [
    {
     "data": {
      "image/png": "[encoded data removed]",
      "text/plain": [
       "<Figure size 1200x600 with 1 Axes>"
      ]
     },
     "metadata": {},
     "output_type": "display_data"
    }
   ],
   "source": [
    "plt.figure(figsize=(12, 6))\n",
    "plt.plot(df_promedio_diario['fecha_aux'], df_promedio_diario['promedio_diario'], label='Promedio precio diario', marker='o')\n",
    "plt.plot(df_promedio_diario['fecha_aux'], df_promedio_diario['promedio_movil_7d'], label='Promedio precio móvil (7 días)', linestyle='--')\n",
    "\n",
    "plt.title('Comparación del Promedio Diario y el Promedio Móvil de 7 Días del precio', fontsize=16)\n",
    "plt.xlabel('Fecha', fontsize=14)\n",
    "plt.ylabel('Precio', fontsize=14)\n",
    "plt.legend(loc='upper left')\n",
    "plt.grid()\n",
    "plt.xticks(rotation=45)\n",
    "\n",
    "plt.tight_layout()\n",
    "plt.savefig('image.png')\n",
    "plt.show()"
   ]
  },
  {
   "cell_type": "markdown",
   "metadata": {},
   "source": [
    "## 6. Almacenamiento de resultados"
   ]
  },
  {
   "cell_type": "code",
   "execution_count": null,
   "metadata": {},
   "outputs": [],
   "source": [
    "conn = sqlite3.connect('precios.db')\n",
    "cursor = conn.cursor()\n",
    "\n",
    "cursor.execute('''\n",
    "CREATE TABLE IF NOT EXISTS precios_diarios (\n",
    "    fecha TEXT PRIMARY KEY,\n",
    "    precio_promedio REAL,\n",
    "    precio_7d REAL\n",
    ")\n",
    "''')\n",
    "conn.commit()"
   ]
  },
  {
   "cell_type": "code",
   "execution_count": null,
   "metadata": {},
   "outputs": [],
   "source": [
    "cursor.executemany('''\n",
    "INSERT INTO precios_diarios (fecha, precio_promedio, precio_7d)\n",
    "VALUES (?, ?, ?)\n",
    "''', df_promedio_diario.values.tolist())\n",
    "\n",
    "conn.commit()"
   ]
  },
  {
   "cell_type": "code",
   "execution_count": 35,
   "metadata": {},
   "outputs": [],
   "source": [
    "conn.close()"
   ]
  }
 ],
 "metadata": {
  "kernelspec": {
   "display_name": "trading",
   "language": "python",
   "name": "python3"
  },
  "language_info": {
   "codemirror_mode": {
    "name": "ipython",
    "version": 3
   },
   "file_extension": ".py",
   "mimetype": "text/x-python",
   "name": "python",
   "nbconvert_exporter": "python",
   "pygments_lexer": "ipython3",
   "version": "3.11.8"
  }
 },
 "nbformat": 4,
 "nbformat_minor": 2
}
